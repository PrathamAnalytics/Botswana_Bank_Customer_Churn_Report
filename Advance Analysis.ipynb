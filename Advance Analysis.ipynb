{
 "cells": [
  {
   "cell_type": "markdown",
   "id": "918a24de-9fad-4963-9ef6-dbcaf6dbeef0",
   "metadata": {},
   "source": [
    "# Import Libraries"
   ]
  },
  {
   "cell_type": "code",
   "execution_count": 5,
   "id": "00971e7a-7e19-4e96-972c-a598f6b837e1",
   "metadata": {},
   "outputs": [],
   "source": [
    "import pandas as pd\n",
    "import numpy as np\n",
    "import seaborn as sns\n",
    "import matplotlib.pyplot as plt\n",
    "%matplotlib inline"
   ]
  },
  {
   "cell_type": "markdown",
   "id": "bd00eb93-90fa-4867-be7b-5f46d589ae06",
   "metadata": {},
   "source": [
    "# Settings"
   ]
  },
  {
   "cell_type": "code",
   "execution_count": 6,
   "id": "d59ab0f8-09db-4a5d-8001-a455d8a0ca4d",
   "metadata": {},
   "outputs": [],
   "source": [
    "pd.set_option('display.max_columns', None)\n",
    "sns.set(style=\"dark\")"
   ]
  },
  {
   "cell_type": "markdown",
   "id": "ca98b187-3642-4021-84dc-0c26e91dd667",
   "metadata": {},
   "source": [
    "# Load Dataset"
   ]
  },
  {
   "cell_type": "code",
   "execution_count": 7,
   "id": "d80deeea-bc64-4f5c-9024-9b233a0181be",
   "metadata": {
    "scrolled": true
   },
   "outputs": [
    {
     "data": {
      "text/html": [
       "<div>\n",
       "<style scoped>\n",
       "    .dataframe tbody tr th:only-of-type {\n",
       "        vertical-align: middle;\n",
       "    }\n",
       "\n",
       "    .dataframe tbody tr th {\n",
       "        vertical-align: top;\n",
       "    }\n",
       "\n",
       "    .dataframe thead th {\n",
       "        text-align: right;\n",
       "    }\n",
       "</style>\n",
       "<table border=\"1\" class=\"dataframe\">\n",
       "  <thead>\n",
       "    <tr style=\"text-align: right;\">\n",
       "      <th></th>\n",
       "      <th>CustomerId</th>\n",
       "      <th>Full Name</th>\n",
       "      <th>Age</th>\n",
       "      <th>Age Group</th>\n",
       "      <th>Date of Birth</th>\n",
       "      <th>Gender</th>\n",
       "      <th>Marital Status</th>\n",
       "      <th>Number of Dependents</th>\n",
       "      <th>Occupation</th>\n",
       "      <th>Income</th>\n",
       "      <th>Income Gap</th>\n",
       "      <th>Education Level</th>\n",
       "      <th>Address</th>\n",
       "      <th>Contact Information</th>\n",
       "      <th>Customer Tenure</th>\n",
       "      <th>Tenure Category</th>\n",
       "      <th>Customer Segment</th>\n",
       "      <th>Communication</th>\n",
       "      <th>Credit Score</th>\n",
       "      <th>Credit History</th>\n",
       "      <th>Outstanding Loans</th>\n",
       "      <th>Churn Flag</th>\n",
       "      <th>Churn Reason</th>\n",
       "      <th>Churn Date</th>\n",
       "      <th>Balance</th>\n",
       "      <th>Num of Products</th>\n",
       "      <th>Num of Complaints</th>\n",
       "      <th>Risk Indicator</th>\n",
       "      <th>Balance-Income Ratio</th>\n",
       "      <th>Balance-Income Ratio Category</th>\n",
       "      <th>Churn Status</th>\n",
       "      <th>Credit Utilization Ratio</th>\n",
       "      <th>Complaint Rate\\t</th>\n",
       "      <th>Loan to Income Ratio</th>\n",
       "    </tr>\n",
       "  </thead>\n",
       "  <tbody>\n",
       "    <tr>\n",
       "      <th>0</th>\n",
       "      <td>83ef0b54-35f6-4f84-af58-5653ac0c0dc4</td>\n",
       "      <td>Troy Smith</td>\n",
       "      <td>37</td>\n",
       "      <td>Middle</td>\n",
       "      <td>8/29/1987</td>\n",
       "      <td>Male</td>\n",
       "      <td>Divorced</td>\n",
       "      <td>3</td>\n",
       "      <td>Information systems manager</td>\n",
       "      <td>$77,710</td>\n",
       "      <td>High</td>\n",
       "      <td>High School</td>\n",
       "      <td>26644 Diaz Viaduct\\nNorth Jessicaville, VI 14852</td>\n",
       "      <td>001-301-934-3058x0825</td>\n",
       "      <td>30</td>\n",
       "      <td>Loyal</td>\n",
       "      <td>Retail</td>\n",
       "      <td>Phone</td>\n",
       "      <td>397</td>\n",
       "      <td>24</td>\n",
       "      <td>41959.74</td>\n",
       "      <td>0</td>\n",
       "      <td>NaN</td>\n",
       "      <td>NaN</td>\n",
       "      <td>$211,359.05</td>\n",
       "      <td>1</td>\n",
       "      <td>0</td>\n",
       "      <td>High Risk</td>\n",
       "      <td>272%</td>\n",
       "      <td>Moderate</td>\n",
       "      <td>Active</td>\n",
       "      <td>20%</td>\n",
       "      <td>0.00</td>\n",
       "      <td>$0.54</td>\n",
       "    </tr>\n",
       "    <tr>\n",
       "      <th>1</th>\n",
       "      <td>009f115a-e5ca-4cf4-97d6-530140545e4e</td>\n",
       "      <td>Katrina Sullivan</td>\n",
       "      <td>25</td>\n",
       "      <td>Young</td>\n",
       "      <td>2/7/2000</td>\n",
       "      <td>Female</td>\n",
       "      <td>Married</td>\n",
       "      <td>1</td>\n",
       "      <td>Charity fundraiser</td>\n",
       "      <td>$58,210</td>\n",
       "      <td>High</td>\n",
       "      <td>High School</td>\n",
       "      <td>5642 Rachel Pass Suite 320\\nPort Peggy, RI 75805</td>\n",
       "      <td>-5530</td>\n",
       "      <td>27</td>\n",
       "      <td>Loyal</td>\n",
       "      <td>SME</td>\n",
       "      <td>Email</td>\n",
       "      <td>665</td>\n",
       "      <td>10</td>\n",
       "      <td>8916.67</td>\n",
       "      <td>0</td>\n",
       "      <td>NaN</td>\n",
       "      <td>NaN</td>\n",
       "      <td>$30,624.76</td>\n",
       "      <td>4</td>\n",
       "      <td>1</td>\n",
       "      <td>Mid Risk</td>\n",
       "      <td>53%</td>\n",
       "      <td>Low</td>\n",
       "      <td>Active</td>\n",
       "      <td>29%</td>\n",
       "      <td>0.25</td>\n",
       "      <td>$0.15</td>\n",
       "    </tr>\n",
       "    <tr>\n",
       "      <th>2</th>\n",
       "      <td>66309fd3-5009-44d3-a3f7-1657c869d573</td>\n",
       "      <td>Henry Fuller</td>\n",
       "      <td>71</td>\n",
       "      <td>Old</td>\n",
       "      <td>2/3/1954</td>\n",
       "      <td>Female</td>\n",
       "      <td>Single</td>\n",
       "      <td>1</td>\n",
       "      <td>Television production assistant</td>\n",
       "      <td>$9,794</td>\n",
       "      <td>Medium</td>\n",
       "      <td>High School</td>\n",
       "      <td>00025 Brittany Flats Apt. 543\\nNew Amandaborou...</td>\n",
       "      <td>9753900004</td>\n",
       "      <td>14</td>\n",
       "      <td>Mid</td>\n",
       "      <td>Retail</td>\n",
       "      <td>Email</td>\n",
       "      <td>715</td>\n",
       "      <td>21</td>\n",
       "      <td>43270.54</td>\n",
       "      <td>0</td>\n",
       "      <td>NaN</td>\n",
       "      <td>NaN</td>\n",
       "      <td>$111,956.61</td>\n",
       "      <td>2</td>\n",
       "      <td>6</td>\n",
       "      <td>Low Risk</td>\n",
       "      <td>1143%</td>\n",
       "      <td>Very High</td>\n",
       "      <td>Active</td>\n",
       "      <td>39%</td>\n",
       "      <td>3.00</td>\n",
       "      <td>$4.42</td>\n",
       "    </tr>\n",
       "    <tr>\n",
       "      <th>3</th>\n",
       "      <td>b02a30df-1a5f-4087-8075-2a35432da641</td>\n",
       "      <td>Antonio Young</td>\n",
       "      <td>34</td>\n",
       "      <td>Middle</td>\n",
       "      <td>1/15/1991</td>\n",
       "      <td>Female</td>\n",
       "      <td>Divorced</td>\n",
       "      <td>5</td>\n",
       "      <td>Agricultural engineer</td>\n",
       "      <td>$15,089</td>\n",
       "      <td>Low</td>\n",
       "      <td>High School</td>\n",
       "      <td>Unit 3386 Box 0088\\nDPO AE 71940</td>\n",
       "      <td>+1-928-477-2856x660</td>\n",
       "      <td>23</td>\n",
       "      <td>Loyal</td>\n",
       "      <td>Corporate</td>\n",
       "      <td>Phone</td>\n",
       "      <td>747</td>\n",
       "      <td>17</td>\n",
       "      <td>17887.65</td>\n",
       "      <td>0</td>\n",
       "      <td>NaN</td>\n",
       "      <td>NaN</td>\n",
       "      <td>$201,187.61</td>\n",
       "      <td>1</td>\n",
       "      <td>0</td>\n",
       "      <td>Low Risk</td>\n",
       "      <td>1333%</td>\n",
       "      <td>Very High</td>\n",
       "      <td>Active</td>\n",
       "      <td>9%</td>\n",
       "      <td>0.00</td>\n",
       "      <td>$1.19</td>\n",
       "    </tr>\n",
       "    <tr>\n",
       "      <th>4</th>\n",
       "      <td>0d932e5b-bb3a-4104-8c83-f84270f7f2ea</td>\n",
       "      <td>John Andersen</td>\n",
       "      <td>33</td>\n",
       "      <td>Middle</td>\n",
       "      <td>4/8/1992</td>\n",
       "      <td>Female</td>\n",
       "      <td>Divorced</td>\n",
       "      <td>2</td>\n",
       "      <td>Teacher, early years/pre</td>\n",
       "      <td>$60,727</td>\n",
       "      <td>Low</td>\n",
       "      <td>Master's</td>\n",
       "      <td>0120 Leslie River\\nWest Lindseychester, MN 98290</td>\n",
       "      <td>204.515.2388</td>\n",
       "      <td>22</td>\n",
       "      <td>Loyal</td>\n",
       "      <td>Corporate</td>\n",
       "      <td>Email</td>\n",
       "      <td>549</td>\n",
       "      <td>25</td>\n",
       "      <td>32686.84</td>\n",
       "      <td>0</td>\n",
       "      <td>NaN</td>\n",
       "      <td>NaN</td>\n",
       "      <td>$60,391.24</td>\n",
       "      <td>5</td>\n",
       "      <td>6</td>\n",
       "      <td>Low Risk</td>\n",
       "      <td>99%</td>\n",
       "      <td>Low</td>\n",
       "      <td>Active</td>\n",
       "      <td>54%</td>\n",
       "      <td>1.20</td>\n",
       "      <td>$0.54</td>\n",
       "    </tr>\n",
       "    <tr>\n",
       "      <th>...</th>\n",
       "      <td>...</td>\n",
       "      <td>...</td>\n",
       "      <td>...</td>\n",
       "      <td>...</td>\n",
       "      <td>...</td>\n",
       "      <td>...</td>\n",
       "      <td>...</td>\n",
       "      <td>...</td>\n",
       "      <td>...</td>\n",
       "      <td>...</td>\n",
       "      <td>...</td>\n",
       "      <td>...</td>\n",
       "      <td>...</td>\n",
       "      <td>...</td>\n",
       "      <td>...</td>\n",
       "      <td>...</td>\n",
       "      <td>...</td>\n",
       "      <td>...</td>\n",
       "      <td>...</td>\n",
       "      <td>...</td>\n",
       "      <td>...</td>\n",
       "      <td>...</td>\n",
       "      <td>...</td>\n",
       "      <td>...</td>\n",
       "      <td>...</td>\n",
       "      <td>...</td>\n",
       "      <td>...</td>\n",
       "      <td>...</td>\n",
       "      <td>...</td>\n",
       "      <td>...</td>\n",
       "      <td>...</td>\n",
       "      <td>...</td>\n",
       "      <td>...</td>\n",
       "      <td>...</td>\n",
       "    </tr>\n",
       "    <tr>\n",
       "      <th>115635</th>\n",
       "      <td>b4ef7eba-1a9e-4956-b827-50037a1087d5</td>\n",
       "      <td>Gregory Russell</td>\n",
       "      <td>60</td>\n",
       "      <td>Old</td>\n",
       "      <td>3/9/1965</td>\n",
       "      <td>Male</td>\n",
       "      <td>Divorced</td>\n",
       "      <td>2</td>\n",
       "      <td>Chemical engineer</td>\n",
       "      <td>$15,704</td>\n",
       "      <td>Medium</td>\n",
       "      <td>Diploma</td>\n",
       "      <td>582 Davis Club Apt. 511\\nScottview, MS 82178</td>\n",
       "      <td>001-382-802-1191x6905</td>\n",
       "      <td>10</td>\n",
       "      <td>New</td>\n",
       "      <td>Corporate</td>\n",
       "      <td>Phone</td>\n",
       "      <td>350</td>\n",
       "      <td>23</td>\n",
       "      <td>26370.30</td>\n",
       "      <td>1</td>\n",
       "      <td>Account Closure</td>\n",
       "      <td>6/24/2024</td>\n",
       "      <td>$20,804.19</td>\n",
       "      <td>2</td>\n",
       "      <td>7</td>\n",
       "      <td>Low Risk</td>\n",
       "      <td>132%</td>\n",
       "      <td>Moderate</td>\n",
       "      <td>Churned</td>\n",
       "      <td>127%</td>\n",
       "      <td>3.50</td>\n",
       "      <td>$1.68</td>\n",
       "    </tr>\n",
       "    <tr>\n",
       "      <th>115636</th>\n",
       "      <td>578e6b99-b42a-4af1-afb4-fd570ea0721f</td>\n",
       "      <td>Thomas Ramirez</td>\n",
       "      <td>70</td>\n",
       "      <td>Old</td>\n",
       "      <td>1/10/1955</td>\n",
       "      <td>Female</td>\n",
       "      <td>Single</td>\n",
       "      <td>3</td>\n",
       "      <td>Chartered legal executive (England and Wales)</td>\n",
       "      <td>$75,793</td>\n",
       "      <td>Low</td>\n",
       "      <td>High School</td>\n",
       "      <td>6372 Moore Lights Apt. 690\\nSouth Benjamin, OH...</td>\n",
       "      <td>+1-894-758-0762x9444</td>\n",
       "      <td>8</td>\n",
       "      <td>New</td>\n",
       "      <td>Corporate</td>\n",
       "      <td>Email</td>\n",
       "      <td>721</td>\n",
       "      <td>15</td>\n",
       "      <td>36229.64</td>\n",
       "      <td>0</td>\n",
       "      <td>NaN</td>\n",
       "      <td>NaN</td>\n",
       "      <td>$10,041.21</td>\n",
       "      <td>4</td>\n",
       "      <td>7</td>\n",
       "      <td>Low Risk</td>\n",
       "      <td>13%</td>\n",
       "      <td>Low</td>\n",
       "      <td>Active</td>\n",
       "      <td>361%</td>\n",
       "      <td>1.75</td>\n",
       "      <td>$0.48</td>\n",
       "    </tr>\n",
       "    <tr>\n",
       "      <th>115637</th>\n",
       "      <td>73a64c22-da8f-4c3e-8f62-d92f03636a1e</td>\n",
       "      <td>Tonya Clark</td>\n",
       "      <td>69</td>\n",
       "      <td>Old</td>\n",
       "      <td>8/29/1955</td>\n",
       "      <td>Male</td>\n",
       "      <td>Married</td>\n",
       "      <td>4</td>\n",
       "      <td>Field trials officer</td>\n",
       "      <td>$30,142</td>\n",
       "      <td>High</td>\n",
       "      <td>Diploma</td>\n",
       "      <td>4952 Thomas Corners Apt. 346\\nEdwinshire, GU 4...</td>\n",
       "      <td>(734)940-1024</td>\n",
       "      <td>28</td>\n",
       "      <td>Loyal</td>\n",
       "      <td>Retail</td>\n",
       "      <td>Email</td>\n",
       "      <td>773</td>\n",
       "      <td>19</td>\n",
       "      <td>6440.85</td>\n",
       "      <td>0</td>\n",
       "      <td>NaN</td>\n",
       "      <td>NaN</td>\n",
       "      <td>$108,833.43</td>\n",
       "      <td>1</td>\n",
       "      <td>4</td>\n",
       "      <td>Low Risk</td>\n",
       "      <td>361%</td>\n",
       "      <td>High</td>\n",
       "      <td>Active</td>\n",
       "      <td>6%</td>\n",
       "      <td>4.00</td>\n",
       "      <td>$0.21</td>\n",
       "    </tr>\n",
       "    <tr>\n",
       "      <th>115638</th>\n",
       "      <td>00affc66-75c4-43c4-9019-f28c434b5012</td>\n",
       "      <td>Lisa Stewart</td>\n",
       "      <td>32</td>\n",
       "      <td>Middle</td>\n",
       "      <td>12/27/1992</td>\n",
       "      <td>Female</td>\n",
       "      <td>Married</td>\n",
       "      <td>0</td>\n",
       "      <td>Legal secretary</td>\n",
       "      <td>$58,636</td>\n",
       "      <td>Medium</td>\n",
       "      <td>High School</td>\n",
       "      <td>9575 Edward Springs\\nMichaelmouth, KS 02190</td>\n",
       "      <td>(980)271-6580</td>\n",
       "      <td>22</td>\n",
       "      <td>Loyal</td>\n",
       "      <td>Retail</td>\n",
       "      <td>Phone</td>\n",
       "      <td>584</td>\n",
       "      <td>23</td>\n",
       "      <td>5740.08</td>\n",
       "      <td>0</td>\n",
       "      <td>NaN</td>\n",
       "      <td>NaN</td>\n",
       "      <td>$195,548.32</td>\n",
       "      <td>5</td>\n",
       "      <td>6</td>\n",
       "      <td>Low Risk</td>\n",
       "      <td>333%</td>\n",
       "      <td>High</td>\n",
       "      <td>Active</td>\n",
       "      <td>3%</td>\n",
       "      <td>1.20</td>\n",
       "      <td>$0.10</td>\n",
       "    </tr>\n",
       "    <tr>\n",
       "      <th>115639</th>\n",
       "      <td>cf2dbdf3-607d-414a-bc14-413dde1c3fc7</td>\n",
       "      <td>Jessica Steele</td>\n",
       "      <td>50</td>\n",
       "      <td>Middle</td>\n",
       "      <td>11/7/1974</td>\n",
       "      <td>Male</td>\n",
       "      <td>Divorced</td>\n",
       "      <td>1</td>\n",
       "      <td>Neurosurgeon</td>\n",
       "      <td>$10,543</td>\n",
       "      <td>Medium</td>\n",
       "      <td>Bachelor's</td>\n",
       "      <td>9721 George Well\\nNorth Brianmouth, DC 84440</td>\n",
       "      <td>300.399.7848</td>\n",
       "      <td>4</td>\n",
       "      <td>New</td>\n",
       "      <td>Corporate</td>\n",
       "      <td>Email</td>\n",
       "      <td>689</td>\n",
       "      <td>12</td>\n",
       "      <td>24658.29</td>\n",
       "      <td>1</td>\n",
       "      <td>Account Closure</td>\n",
       "      <td>3/3/2024</td>\n",
       "      <td>$13,718.92</td>\n",
       "      <td>2</td>\n",
       "      <td>10</td>\n",
       "      <td>Mid Risk</td>\n",
       "      <td>130%</td>\n",
       "      <td>Moderate</td>\n",
       "      <td>Churned</td>\n",
       "      <td>180%</td>\n",
       "      <td>5.00</td>\n",
       "      <td>$2.34</td>\n",
       "    </tr>\n",
       "  </tbody>\n",
       "</table>\n",
       "<p>115640 rows × 34 columns</p>\n",
       "</div>"
      ],
      "text/plain": [
       "                                  CustomerId         Full Name  Age Age Group  \\\n",
       "0       83ef0b54-35f6-4f84-af58-5653ac0c0dc4        Troy Smith   37    Middle   \n",
       "1       009f115a-e5ca-4cf4-97d6-530140545e4e  Katrina Sullivan   25     Young   \n",
       "2       66309fd3-5009-44d3-a3f7-1657c869d573      Henry Fuller   71       Old   \n",
       "3       b02a30df-1a5f-4087-8075-2a35432da641     Antonio Young   34    Middle   \n",
       "4       0d932e5b-bb3a-4104-8c83-f84270f7f2ea     John Andersen   33    Middle   \n",
       "...                                      ...               ...  ...       ...   \n",
       "115635  b4ef7eba-1a9e-4956-b827-50037a1087d5   Gregory Russell   60       Old   \n",
       "115636  578e6b99-b42a-4af1-afb4-fd570ea0721f    Thomas Ramirez   70       Old   \n",
       "115637  73a64c22-da8f-4c3e-8f62-d92f03636a1e       Tonya Clark   69       Old   \n",
       "115638  00affc66-75c4-43c4-9019-f28c434b5012      Lisa Stewart   32    Middle   \n",
       "115639  cf2dbdf3-607d-414a-bc14-413dde1c3fc7    Jessica Steele   50    Middle   \n",
       "\n",
       "       Date of Birth  Gender Marital Status  Number of Dependents  \\\n",
       "0          8/29/1987    Male       Divorced                     3   \n",
       "1           2/7/2000  Female        Married                     1   \n",
       "2           2/3/1954  Female         Single                     1   \n",
       "3          1/15/1991  Female       Divorced                     5   \n",
       "4           4/8/1992  Female       Divorced                     2   \n",
       "...              ...     ...            ...                   ...   \n",
       "115635      3/9/1965    Male       Divorced                     2   \n",
       "115636     1/10/1955  Female         Single                     3   \n",
       "115637     8/29/1955    Male        Married                     4   \n",
       "115638    12/27/1992  Female        Married                     0   \n",
       "115639     11/7/1974    Male       Divorced                     1   \n",
       "\n",
       "                                           Occupation   Income  Income Gap  \\\n",
       "0                         Information systems manager  $77,710        High   \n",
       "1                                  Charity fundraiser  $58,210        High   \n",
       "2                     Television production assistant   $9,794      Medium   \n",
       "3                               Agricultural engineer  $15,089         Low   \n",
       "4                            Teacher, early years/pre  $60,727         Low   \n",
       "...                                               ...       ...        ...   \n",
       "115635                              Chemical engineer  $15,704      Medium   \n",
       "115636  Chartered legal executive (England and Wales)  $75,793         Low   \n",
       "115637                           Field trials officer  $30,142        High   \n",
       "115638                                Legal secretary  $58,636      Medium   \n",
       "115639                                   Neurosurgeon  $10,543      Medium   \n",
       "\n",
       "       Education Level                                            Address  \\\n",
       "0          High School   26644 Diaz Viaduct\\nNorth Jessicaville, VI 14852   \n",
       "1          High School   5642 Rachel Pass Suite 320\\nPort Peggy, RI 75805   \n",
       "2          High School  00025 Brittany Flats Apt. 543\\nNew Amandaborou...   \n",
       "3          High School                   Unit 3386 Box 0088\\nDPO AE 71940   \n",
       "4             Master's   0120 Leslie River\\nWest Lindseychester, MN 98290   \n",
       "...                ...                                                ...   \n",
       "115635         Diploma       582 Davis Club Apt. 511\\nScottview, MS 82178   \n",
       "115636     High School  6372 Moore Lights Apt. 690\\nSouth Benjamin, OH...   \n",
       "115637         Diploma  4952 Thomas Corners Apt. 346\\nEdwinshire, GU 4...   \n",
       "115638     High School        9575 Edward Springs\\nMichaelmouth, KS 02190   \n",
       "115639      Bachelor's       9721 George Well\\nNorth Brianmouth, DC 84440   \n",
       "\n",
       "          Contact Information  Customer Tenure Tenure Category  \\\n",
       "0       001-301-934-3058x0825               30           Loyal   \n",
       "1                       -5530               27           Loyal   \n",
       "2                  9753900004               14             Mid   \n",
       "3         +1-928-477-2856x660               23           Loyal   \n",
       "4                204.515.2388               22           Loyal   \n",
       "...                       ...              ...             ...   \n",
       "115635  001-382-802-1191x6905               10             New   \n",
       "115636   +1-894-758-0762x9444                8             New   \n",
       "115637          (734)940-1024               28           Loyal   \n",
       "115638          (980)271-6580               22           Loyal   \n",
       "115639           300.399.7848                4             New   \n",
       "\n",
       "       Customer Segment Communication   Credit Score  Credit History   \\\n",
       "0                Retail          Phone           397               24   \n",
       "1                   SME          Email           665               10   \n",
       "2                Retail          Email           715               21   \n",
       "3             Corporate          Phone           747               17   \n",
       "4             Corporate          Email           549               25   \n",
       "...                 ...            ...           ...              ...   \n",
       "115635        Corporate          Phone           350               23   \n",
       "115636        Corporate          Email           721               15   \n",
       "115637           Retail          Email           773               19   \n",
       "115638           Retail          Phone           584               23   \n",
       "115639        Corporate          Email           689               12   \n",
       "\n",
       "        Outstanding Loans  Churn Flag     Churn Reason Churn Date  \\\n",
       "0                41959.74           0              NaN        NaN   \n",
       "1                 8916.67           0              NaN        NaN   \n",
       "2                43270.54           0              NaN        NaN   \n",
       "3                17887.65           0              NaN        NaN   \n",
       "4                32686.84           0              NaN        NaN   \n",
       "...                   ...         ...              ...        ...   \n",
       "115635           26370.30           1  Account Closure  6/24/2024   \n",
       "115636           36229.64           0              NaN        NaN   \n",
       "115637            6440.85           0              NaN        NaN   \n",
       "115638            5740.08           0              NaN        NaN   \n",
       "115639           24658.29           1  Account Closure   3/3/2024   \n",
       "\n",
       "            Balance   Num of Products  Num of Complaints Risk Indicator  \\\n",
       "0       $211,359.05                 1                  0      High Risk   \n",
       "1        $30,624.76                 4                  1       Mid Risk   \n",
       "2       $111,956.61                 2                  6       Low Risk   \n",
       "3       $201,187.61                 1                  0       Low Risk   \n",
       "4        $60,391.24                 5                  6       Low Risk   \n",
       "...              ...              ...                ...            ...   \n",
       "115635   $20,804.19                 2                  7       Low Risk   \n",
       "115636   $10,041.21                 4                  7       Low Risk   \n",
       "115637  $108,833.43                 1                  4       Low Risk   \n",
       "115638  $195,548.32                 5                  6       Low Risk   \n",
       "115639   $13,718.92                 2                 10       Mid Risk   \n",
       "\n",
       "       Balance-Income Ratio Balance-Income Ratio Category Churn Status  \\\n",
       "0                      272%                      Moderate       Active   \n",
       "1                       53%                           Low       Active   \n",
       "2                     1143%                     Very High       Active   \n",
       "3                     1333%                     Very High       Active   \n",
       "4                       99%                           Low       Active   \n",
       "...                     ...                           ...          ...   \n",
       "115635                 132%                      Moderate      Churned   \n",
       "115636                  13%                           Low       Active   \n",
       "115637                 361%                          High       Active   \n",
       "115638                 333%                          High       Active   \n",
       "115639                 130%                      Moderate      Churned   \n",
       "\n",
       "       Credit Utilization Ratio  Complaint Rate\\t Loan to Income Ratio  \n",
       "0                           20%              0.00               $0.54   \n",
       "1                           29%              0.25               $0.15   \n",
       "2                           39%              3.00               $4.42   \n",
       "3                            9%              0.00               $1.19   \n",
       "4                           54%              1.20               $0.54   \n",
       "...                         ...               ...                  ...  \n",
       "115635                     127%              3.50               $1.68   \n",
       "115636                     361%              1.75               $0.48   \n",
       "115637                       6%              4.00               $0.21   \n",
       "115638                       3%              1.20               $0.10   \n",
       "115639                     180%              5.00               $2.34   \n",
       "\n",
       "[115640 rows x 34 columns]"
      ]
     },
     "execution_count": 7,
     "metadata": {},
     "output_type": "execute_result"
    }
   ],
   "source": [
    "df = pd.read_csv(\"D:\\\\Pratham\\\\Projects\\\\Botswana Bank Customer Churn Report\\\\botswana_bank_customer_churn.csv\")\n",
    "df"
   ]
  },
  {
   "cell_type": "markdown",
   "id": "9d00303f-f05b-4a0a-a1c9-28dbf2a09c85",
   "metadata": {},
   "source": [
    "# Initial Data Inspection"
   ]
  },
  {
   "cell_type": "code",
   "execution_count": 11,
   "id": "c7e158d0-4e4f-4509-bcd9-6d2d25d1c015",
   "metadata": {},
   "outputs": [
    {
     "name": "stdout",
     "output_type": "stream",
     "text": [
      "(115640, 34)\n"
     ]
    }
   ],
   "source": [
    "print(df.shape)"
   ]
  },
  {
   "cell_type": "code",
   "execution_count": 13,
   "id": "6f120d3b-460c-4968-b3fe-67e288898686",
   "metadata": {
    "scrolled": true
   },
   "outputs": [
    {
     "name": "stdout",
     "output_type": "stream",
     "text": [
      "<class 'pandas.core.frame.DataFrame'>\n",
      "RangeIndex: 115640 entries, 0 to 115639\n",
      "Data columns (total 34 columns):\n",
      " #   Column                         Non-Null Count   Dtype  \n",
      "---  ------                         --------------   -----  \n",
      " 0   CustomerId                     115640 non-null  object \n",
      " 1   Full Name                      115640 non-null  object \n",
      " 2   Age                            115640 non-null  int64  \n",
      " 3   Age Group                      115640 non-null  object \n",
      " 4   Date of Birth                  115640 non-null  object \n",
      " 5   Gender                         115640 non-null  object \n",
      " 6   Marital Status                 115640 non-null  object \n",
      " 7   Number of Dependents           115640 non-null  int64  \n",
      " 8   Occupation                     115640 non-null  object \n",
      " 9    Income                        115640 non-null  object \n",
      " 10  Income Gap                     115640 non-null  object \n",
      " 11  Education Level                115640 non-null  object \n",
      " 12  Address                        115640 non-null  object \n",
      " 13  Contact Information            115640 non-null  object \n",
      " 14  Customer Tenure                115640 non-null  int64  \n",
      " 15  Tenure Category                115640 non-null  object \n",
      " 16  Customer Segment               115640 non-null  object \n",
      " 17  Communication                  115640 non-null  object \n",
      " 18  Credit Score                   115640 non-null  int64  \n",
      " 19  Credit History                 115640 non-null  int64  \n",
      " 20  Outstanding Loans              115640 non-null  float64\n",
      " 21  Churn Flag                     115640 non-null  int64  \n",
      " 22  Churn Reason                   14094 non-null   object \n",
      " 23  Churn Date                     14094 non-null   object \n",
      " 24   Balance                       115640 non-null  object \n",
      " 25  Num of Products                115640 non-null  int64  \n",
      " 26  Num of Complaints              115640 non-null  int64  \n",
      " 27  Risk Indicator                 115640 non-null  object \n",
      " 28  Balance-Income Ratio           115640 non-null  object \n",
      " 29  Balance-Income Ratio Category  115640 non-null  object \n",
      " 30  Churn Status                   115640 non-null  object \n",
      " 31  Credit Utilization Ratio       115640 non-null  object \n",
      " 32  Complaint Rate\t                115640 non-null  float64\n",
      " 33  Loan to Income Ratio           115640 non-null  object \n",
      "dtypes: float64(2), int64(8), object(24)\n",
      "memory usage: 30.0+ MB\n",
      "None\n"
     ]
    }
   ],
   "source": [
    "print(df.info())"
   ]
  },
  {
   "cell_type": "code",
   "execution_count": 11,
   "id": "f6a597ef-b7e3-42aa-80bd-d55956b506ff",
   "metadata": {
    "scrolled": true
   },
   "outputs": [
    {
     "name": "stdout",
     "output_type": "stream",
     "text": [
      "                 Age  Number of Dependents  Customer Tenure   Credit Score  \\\n",
      "count  115640.000000         115640.000000    115640.000000  115640.000000   \n",
      "mean       47.193748              2.502923        15.490591     574.299775   \n",
      "std        16.713317              1.707249         8.654217     159.067499   \n",
      "min        18.000000              0.000000         1.000000     300.000000   \n",
      "25%        33.000000              1.000000         8.000000     436.000000   \n",
      "50%        47.000000              3.000000        15.000000     574.000000   \n",
      "75%        62.000000              4.000000        23.000000     712.000000   \n",
      "max        76.000000              5.000000        30.000000     850.000000   \n",
      "\n",
      "       Credit History   Outstanding Loans     Churn Flag  Num of Products  \\\n",
      "count    115640.000000      115640.000000  115640.000000    115640.000000   \n",
      "mean         15.546602       25502.731792       0.121878         2.999274   \n",
      "std           8.654630       14127.859827       0.327147         1.411361   \n",
      "min           1.000000        1000.430000       0.000000         1.000000   \n",
      "25%           8.000000       13226.060000       0.000000         2.000000   \n",
      "50%          16.000000       25505.285000       0.000000         3.000000   \n",
      "75%          23.000000       37742.250000       0.000000         4.000000   \n",
      "max          30.000000       49999.690000       1.000000         5.000000   \n",
      "\n",
      "       Num of Complaints  Complaint Rate\\t  \n",
      "count      115640.000000     115640.000000  \n",
      "mean            4.991724          2.277668  \n",
      "std             3.159283          2.237710  \n",
      "min             0.000000          0.000000  \n",
      "25%             2.000000          0.750000  \n",
      "50%             5.000000          1.666667  \n",
      "75%             8.000000          3.000000  \n",
      "max            10.000000         10.000000  \n"
     ]
    }
   ],
   "source": [
    "print(df.describe())"
   ]
  },
  {
   "cell_type": "code",
   "execution_count": 15,
   "id": "03628d09-a078-456f-89ab-482e6b98a6cf",
   "metadata": {
    "scrolled": true
   },
   "outputs": [
    {
     "name": "stdout",
     "output_type": "stream",
     "text": [
      "                             CustomerId         Full Name  Age Age Group  \\\n",
      "0  83ef0b54-35f6-4f84-af58-5653ac0c0dc4        Troy Smith   37    Middle   \n",
      "1  009f115a-e5ca-4cf4-97d6-530140545e4e  Katrina Sullivan   25     Young   \n",
      "2  66309fd3-5009-44d3-a3f7-1657c869d573      Henry Fuller   71       Old   \n",
      "3  b02a30df-1a5f-4087-8075-2a35432da641     Antonio Young   34    Middle   \n",
      "4  0d932e5b-bb3a-4104-8c83-f84270f7f2ea     John Andersen   33    Middle   \n",
      "5  c18b027e-b108-4900-b413-dac87e2ee9b5   Ashley Gonzales   37    Middle   \n",
      "6  7091e271-7d2b-4e73-934f-8398e2a1dcbc     Daniel Wilcox   48    Middle   \n",
      "7  d5e80b75-bd3f-4d8a-b847-0868f8eb9e40      Johnny Lopez   31    Middle   \n",
      "8  9eba62c1-0af0-4424-9218-435ece0689aa       Kelly Miles   23     Young   \n",
      "9  4eea7068-ea07-4898-bb04-6ccd8b729fc9  Anthony Thompson   34    Middle   \n",
      "\n",
      "  Date of Birth  Gender Marital Status  Number of Dependents  \\\n",
      "0     8/29/1987    Male       Divorced                     3   \n",
      "1      2/7/2000  Female        Married                     1   \n",
      "2      2/3/1954  Female         Single                     1   \n",
      "3     1/15/1991  Female       Divorced                     5   \n",
      "4      4/8/1992  Female       Divorced                     2   \n",
      "5    11/28/1987    Male         Single                     0   \n",
      "6      9/7/1976  Female         Single                     1   \n",
      "7      8/5/1993    Male       Divorced                     4   \n",
      "8      8/3/2001    Male       Divorced                     3   \n",
      "9     1/12/1991  Female       Divorced                     5   \n",
      "\n",
      "                        Occupation   Income  Income Gap Education Level  \\\n",
      "0      Information systems manager  $77,710        High     High School   \n",
      "1               Charity fundraiser  $58,210        High     High School   \n",
      "2  Television production assistant   $9,794      Medium     High School   \n",
      "3            Agricultural engineer  $15,089         Low     High School   \n",
      "4         Teacher, early years/pre  $60,727         Low        Master's   \n",
      "5               Surveyor, building  $55,609      Medium      Bachelor's   \n",
      "6                  Publishing copy  $22,033      Medium         Diploma   \n",
      "7                 Industrial buyer  $73,463      Medium         Diploma   \n",
      "8     Medical sales representative  $30,054        High      Bachelor's   \n",
      "9                      Media buyer  $24,130      Medium        Master's   \n",
      "\n",
      "                                             Address    Contact Information  \\\n",
      "0   26644 Diaz Viaduct\\nNorth Jessicaville, VI 14852  001-301-934-3058x0825   \n",
      "1   5642 Rachel Pass Suite 320\\nPort Peggy, RI 75805                  -5530   \n",
      "2  00025 Brittany Flats Apt. 543\\nNew Amandaborou...             9753900004   \n",
      "3                   Unit 3386 Box 0088\\nDPO AE 71940    +1-928-477-2856x660   \n",
      "4   0120 Leslie River\\nWest Lindseychester, MN 98290           204.515.2388   \n",
      "5                   PSC 3787, Box 9869\\nAPO AP 62324  001-880-967-5883x0508   \n",
      "6            983 Adams Coves\\nLake Roberto, MP 82550             4756961139   \n",
      "7  905 Jackson View Suite 009\\nSouth Amymouth, PA...  001-577-988-4031x4410   \n",
      "8         6398 Morgan Knolls\\nJulieborough, NH 55183  001-245-374-7034x4970   \n",
      "9              674 Reed Islands\\nLoweville, TX 67579   +1-814-630-2270x6096   \n",
      "\n",
      "   Customer Tenure Tenure Category Customer Segment Communication   \\\n",
      "0               30           Loyal           Retail          Phone   \n",
      "1               27           Loyal              SME          Email   \n",
      "2               14             Mid           Retail          Email   \n",
      "3               23           Loyal        Corporate          Phone   \n",
      "4               22           Loyal        Corporate          Email   \n",
      "5               15             Mid           Retail          Email   \n",
      "6               15             Mid           Retail          Email   \n",
      "7                3             New        Corporate          Email   \n",
      "8               20             Mid        Corporate          Phone   \n",
      "9               21           Loyal              SME          Phone   \n",
      "\n",
      "   Credit Score  Credit History   Outstanding Loans  Churn Flag  \\\n",
      "0           397               24           41959.74           0   \n",
      "1           665               10            8916.67           0   \n",
      "2           715               21           43270.54           0   \n",
      "3           747               17           17887.65           0   \n",
      "4           549               25           32686.84           0   \n",
      "5           809               27           37218.81           1   \n",
      "6           690               29           26200.00           0   \n",
      "7           605               30           25156.25           0   \n",
      "8           634               16           41854.08           0   \n",
      "9           831               10           30914.02           0   \n",
      "\n",
      "      Churn Reason Churn Date      Balance   Num of Products  \\\n",
      "0              NaN        NaN  $211,359.05                 1   \n",
      "1              NaN        NaN   $30,624.76                 4   \n",
      "2              NaN        NaN  $111,956.61                 2   \n",
      "3              NaN        NaN  $201,187.61                 1   \n",
      "4              NaN        NaN   $60,391.24                 5   \n",
      "5  Account Closure  7/31/2024   $31,206.81                 2   \n",
      "6              NaN        NaN  $198,443.50                 2   \n",
      "7              NaN        NaN   $96,378.05                 4   \n",
      "8              NaN        NaN  $108,395.17                 5   \n",
      "9              NaN        NaN   $99,830.84                 4   \n",
      "\n",
      "   Num of Complaints Risk Indicator Balance-Income Ratio  \\\n",
      "0                  0      High Risk                 272%   \n",
      "1                  1       Mid Risk                  53%   \n",
      "2                  6       Low Risk                1143%   \n",
      "3                  0       Low Risk                1333%   \n",
      "4                  6       Low Risk                  99%   \n",
      "5                 10       Low Risk                  56%   \n",
      "6                  1       Low Risk                 901%   \n",
      "7                  6       Low Risk                 131%   \n",
      "8                  1       Low Risk                 361%   \n",
      "9                  5       Low Risk                 414%   \n",
      "\n",
      "  Balance-Income Ratio Category Churn Status Credit Utilization Ratio  \\\n",
      "0                      Moderate       Active                      20%   \n",
      "1                           Low       Active                      29%   \n",
      "2                     Very High       Active                      39%   \n",
      "3                     Very High       Active                       9%   \n",
      "4                           Low       Active                      54%   \n",
      "5                           Low      Churned                     119%   \n",
      "6                     Very High       Active                      13%   \n",
      "7                      Moderate       Active                      26%   \n",
      "8                          High       Active                      39%   \n",
      "9                          High       Active                      31%   \n",
      "\n",
      "   Complaint Rate\\t Loan to Income Ratio  \n",
      "0              0.00               $0.54   \n",
      "1              0.25               $0.15   \n",
      "2              3.00               $4.42   \n",
      "3              0.00               $1.19   \n",
      "4              1.20               $0.54   \n",
      "5              5.00               $0.67   \n",
      "6              0.50               $1.19   \n",
      "7              1.50               $0.34   \n",
      "8              0.20               $1.39   \n",
      "9              1.25               $1.28   \n"
     ]
    }
   ],
   "source": [
    "print(df.head(10))"
   ]
  },
  {
   "cell_type": "markdown",
   "id": "886deeaa-a9e7-4d96-8492-d6b22fbf9e10",
   "metadata": {},
   "source": [
    "# Advance Analysis"
   ]
  },
  {
   "cell_type": "markdown",
   "id": "4396fa62-10ae-49b6-a5df-8e02dd55b750",
   "metadata": {},
   "source": [
    "### 1. What are the column names of the dataset?"
   ]
  },
  {
   "cell_type": "code",
   "execution_count": 17,
   "id": "4db108ee-a28f-4ef1-95be-dfb03bbeaa49",
   "metadata": {},
   "outputs": [],
   "source": [
    "df.columns = df.columns.str.strip()"
   ]
  },
  {
   "cell_type": "code",
   "execution_count": 19,
   "id": "8b113578-2828-4310-8878-3375ceadde75",
   "metadata": {},
   "outputs": [
    {
     "name": "stdout",
     "output_type": "stream",
     "text": [
      "Columns: ['CustomerId', 'Full Name', 'Age', 'Age Group', 'Date of Birth', 'Gender', 'Marital Status', 'Number of Dependents', 'Occupation', 'Income', 'Income Gap', 'Education Level', 'Address', 'Contact Information', 'Customer Tenure', 'Tenure Category', 'Customer Segment', 'Communication', 'Credit Score', 'Credit History', 'Outstanding Loans', 'Churn Flag', 'Churn Reason', 'Churn Date', 'Balance', 'Num of Products', 'Num of Complaints', 'Risk Indicator', 'Balance-Income Ratio', 'Balance-Income Ratio Category', 'Churn Status', 'Credit Utilization Ratio', 'Complaint Rate', 'Loan to Income Ratio']\n"
     ]
    }
   ],
   "source": [
    "print(\"Columns:\", df.columns.tolist())"
   ]
  },
  {
   "cell_type": "markdown",
   "id": "734838cc-1b47-4f83-848b-c99540375739",
   "metadata": {},
   "source": [
    "### 2. Which 'customer_status' has the highest number of churned customers?"
   ]
  },
  {
   "cell_type": "code",
   "execution_count": 21,
   "id": "b0137bc2-eb3b-49dc-9d6a-707f5036a1a4",
   "metadata": {},
   "outputs": [
    {
     "data": {
      "text/plain": [
       "'Divorced'"
      ]
     },
     "execution_count": 21,
     "metadata": {},
     "output_type": "execute_result"
    }
   ],
   "source": [
    "df[df['Churn Flag'] == 1]['Marital Status'].value_counts().idxmax()"
   ]
  },
  {
   "cell_type": "markdown",
   "id": "09552a6b-ebc9-4167-ba39-e4435da679e2",
   "metadata": {},
   "source": [
    "### 3. Find the median number of products subscribed by active customers only."
   ]
  },
  {
   "cell_type": "code",
   "execution_count": 23,
   "id": "1d0dde54-68d3-47f8-8a0e-6cc8969b5eca",
   "metadata": {},
   "outputs": [
    {
     "data": {
      "text/plain": [
       "3.0"
      ]
     },
     "execution_count": 23,
     "metadata": {},
     "output_type": "execute_result"
    }
   ],
   "source": [
    "df[df['Churn Flag'] == 0]['Num of Products'].median()"
   ]
  },
  {
   "cell_type": "markdown",
   "id": "21884fa6-0bde-4ca6-849c-15f2129868c8",
   "metadata": {},
   "source": [
    "### 4. What is the distribution of 'gender' among churned customers? "
   ]
  },
  {
   "cell_type": "code",
   "execution_count": 25,
   "id": "a55b8e80-9563-406c-8d4c-bedc6456b6ae",
   "metadata": {},
   "outputs": [
    {
     "data": {
      "text/plain": [
       "Gender\n",
       "Male      7070\n",
       "Female    7024\n",
       "Name: count, dtype: int64"
      ]
     },
     "execution_count": 25,
     "metadata": {},
     "output_type": "execute_result"
    }
   ],
   "source": [
    "df[df['Churn Flag'] == 1]['Gender'].value_counts()"
   ]
  },
  {
   "cell_type": "markdown",
   "id": "a6dfcab5-f0ec-4209-bcb0-83de2b2e7f95",
   "metadata": {},
   "source": [
    "### 5. Correlation Heatmap."
   ]
  },
  {
   "cell_type": "code",
   "execution_count": 27,
   "id": "9451ccf1-a3d5-4873-8dde-2c940e6d20b5",
   "metadata": {},
   "outputs": [
    {
     "data": {
      "image/png": "[encoded data removed]",
      "text/plain": [
       "<Figure size 1200x800 with 2 Axes>"
      ]
     },
     "metadata": {},
     "output_type": "display_data"
    }
   ],
   "source": [
    "plt.figure(figsize=(12, 8))\n",
    "sns.heatmap(df.select_dtypes(include='number').corr(), annot=True, fmt=\".2f\", cmap=\"coolwarm\")\n",
    "plt.title(\"Correlation Heatmap\", fontsize=16, fontweight='bold')\n",
    "plt.xticks(rotation=45)\n",
    "plt.yticks(rotation=0)\n",
    "plt.tight_layout()\n",
    "plt.show()"
   ]
  },
  {
   "cell_type": "markdown",
   "id": "bd6c06b7-6ba2-4316-8560-a66c362e6433",
   "metadata": {},
   "source": [
    "### 6. What is the average age of churned vs. non-churned customers?"
   ]
  },
  {
   "cell_type": "code",
   "execution_count": 109,
   "id": "f37e86e5-a1ba-4bfb-9574-be665ba56386",
   "metadata": {},
   "outputs": [
    {
     "name": "stdout",
     "output_type": "stream",
     "text": [
      "Churn Status\n",
      "Active     47.209206\n",
      "Churned    47.082375\n",
      "Name: Age, dtype: float64\n"
     ]
    }
   ],
   "source": [
    "def average_age_by_churn_status(df):\n",
    "    return df.groupby('Churn Status')['Age'].mean()\n",
    "print(average_age_by_churn_status(df))"
   ]
  },
  {
   "cell_type": "markdown",
   "id": "a7afe6fd-1393-429d-bdb3-b47b74451d9f",
   "metadata": {},
   "source": [
    "### 7. Function to categorize customers into risk segments based on Credit Score and Credit History."
   ]
  },
  {
   "cell_type": "code",
   "execution_count": 31,
   "id": "4a5aaae7-c142-4f08-a42d-286a3e85ba7a",
   "metadata": {},
   "outputs": [
    {
     "name": "stdout",
     "output_type": "stream",
     "text": [
      "   Credit Score  Credit History Risk Segment\n",
      "0           397              24    High Risk\n",
      "1           665              10    High Risk\n",
      "2           715              21    High Risk\n",
      "3           747              17    High Risk\n",
      "4           549              25    High Risk\n"
     ]
    }
   ],
   "source": [
    "def risk_segment(credit_score, credit_history):\n",
    "    if credit_score >= 750 and credit_history == 'Good':\n",
    "        return 'Low Risk'\n",
    "    elif credit_score >= 600 and credit_history == 'Average':\n",
    "        return 'Medium Risk'\n",
    "    else:\n",
    "        return 'High Risk'\n",
    "\n",
    "def apply_risk_segment(df):\n",
    "    df['Risk Segment'] = df.apply(lambda row: risk_segment(row['Credit Score'], row['Credit History']), axis=1)\n",
    "    print(df[['Credit Score', 'Credit History', 'Risk Segment']].head())\n",
    "\n",
    "apply_risk_segment(df)"
   ]
  },
  {
   "cell_type": "markdown",
   "id": "236f9dc1-6aca-42e8-aa3d-48d880d5ac61",
   "metadata": {},
   "source": [
    "### 8. Retention rate by Customer Segment."
   ]
  },
  {
   "cell_type": "code",
   "execution_count": 33,
   "id": "a8d67174-2bcc-4f05-a838-a1ed9156137d",
   "metadata": {},
   "outputs": [
    {
     "name": "stdout",
     "output_type": "stream",
     "text": [
      "Retention Rate by Segment (%):\n",
      "                  Churn Status\n",
      "Customer Segment              \n",
      "Corporate                87.90\n",
      "Retail                   87.84\n",
      "SME                      87.70\n"
     ]
    }
   ],
   "source": [
    "def segment_retention(df):\n",
    "    segment_stats = df.groupby('Customer Segment').agg({\n",
    "        'Churn Status': lambda x: (x != 'Churned').mean() * 100\n",
    "    }).round(2)\n",
    "    print('Retention Rate by Segment (%):')\n",
    "    print(segment_stats)\n",
    "\n",
    "segment_retention(df)"
   ]
  },
  {
   "cell_type": "markdown",
   "id": "25345db6-1d0e-4b5c-b78d-19b87f689988",
   "metadata": {},
   "source": [
    "### 9. Balance-Income Ratio by Education Level."
   ]
  },
  {
   "cell_type": "code",
   "execution_count": 120,
   "id": "ac218aa7-bee9-4947-8b8d-1a55e30369f4",
   "metadata": {},
   "outputs": [
    {
     "name": "stdout",
     "output_type": "stream",
     "text": [
      "Education Level\n",
      "Bachelor's    NaN\n",
      "Diploma       NaN\n",
      "High School   NaN\n",
      "Master's      NaN\n",
      "Name: Balance_Income_Ratio, dtype: float64\n"
     ]
    }
   ],
   "source": [
    "def balance_income_ratio_by_education(df):\n",
    "    df['Balance_Income_Ratio'] = df['Balance'] / df['Income']\n",
    "    return df.groupby('Education Level')['Balance_Income_Ratio'].mean()\n",
    "print(balance_income_ratio_by_education(df))"
   ]
  },
  {
   "cell_type": "markdown",
   "id": "c8ced3ab-6693-4b31-9edf-fbfc986039d2",
   "metadata": {},
   "source": [
    "### 10. Correlation between Customer Tenure and Credit Score."
   ]
  },
  {
   "cell_type": "code",
   "execution_count": 37,
   "id": "9b82a92c-c2d4-4a0c-ac24-737e9ed7a384",
   "metadata": {},
   "outputs": [
    {
     "name": "stdout",
     "output_type": "stream",
     "text": [
      "Correlation between Customer Tenure and Credit Score: -0.002\n"
     ]
    }
   ],
   "source": [
    "df['Customer Tenure'] = pd.to_numeric(df['Customer Tenure'], errors='coerce')\n",
    "df['Credit Score'] = pd.to_numeric(df['Credit Score'], errors='coerce')\n",
    "\n",
    "correlation = df['Customer Tenure'].corr(df['Credit Score'])\n",
    "print('Correlation between Customer Tenure and Credit Score:', round(correlation, 3))"
   ]
  },
  {
   "cell_type": "markdown",
   "id": "f69a26f6-3f7f-4199-997d-11e34756230d",
   "metadata": {},
   "source": [
    "### 11. Function to calculate Customer Lifetime Value (CLV)."
   ]
  },
  {
   "cell_type": "code",
   "execution_count": 39,
   "id": "552ad904-821a-45eb-b895-2cb5216d757f",
   "metadata": {},
   "outputs": [
    {
     "name": "stdout",
     "output_type": "stream",
     "text": [
      "   Balance  Income  Customer Tenure  CLV\n",
      "0      NaN     NaN               30  NaN\n",
      "1      NaN     NaN               27  NaN\n",
      "2      NaN     NaN               14  NaN\n",
      "3      NaN     NaN               23  NaN\n",
      "4      NaN     NaN               22  NaN\n"
     ]
    }
   ],
   "source": [
    "df.columns = [col.strip() for col in df.columns]\n",
    "df['Income'] = pd.to_numeric(df['Income'], errors='coerce')\n",
    "df['Balance'] = pd.to_numeric(df['Balance'], errors='coerce')\n",
    "\n",
    "def calculate_clv(balance, income, tenure):\n",
    "    return (balance + income) * tenure\n",
    "\n",
    "df['CLV'] = calculate_clv(df['Balance'], df['Income'], df['Customer Tenure'])\n",
    "print(df[['Balance', 'Income', 'Customer Tenure', 'CLV']].head())"
   ]
  },
  {
   "cell_type": "markdown",
   "id": "35d1bf14-edb1-4dd7-871c-a6e914eb253b",
   "metadata": {},
   "source": [
    "### 12. Average complaint rate by tenure category."
   ]
  },
  {
   "cell_type": "code",
   "execution_count": 41,
   "id": "003a1b44-a544-43e9-ac59-0eb1d0213364",
   "metadata": {},
   "outputs": [
    {
     "name": "stdout",
     "output_type": "stream",
     "text": [
      "Average complaints by tenure category:\n",
      "Tenure Category\n",
      "Loyal    5.00\n",
      "Mid      4.97\n",
      "New      5.01\n",
      "Name: Num of Complaints, dtype: float64\n"
     ]
    }
   ],
   "source": [
    "# Ensure columns are of type string\n",
    "df['Income'] = df['Income'].astype(str).str.replace('$', '').str.replace(',', '').str.strip().astype(float)\n",
    "df['Balance'] = df['Balance'].astype(str).str.replace('$', '').str.replace(',', '').str.strip().astype(float)\n",
    "\n",
    "complaint_by_tenure = df.groupby('Tenure Category')['Num of Complaints'].mean().round(2)\n",
    "print(\"Average complaints by tenure category:\")\n",
    "print(complaint_by_tenure)"
   ]
  },
  {
   "cell_type": "markdown",
   "id": "0f0351f7-f6d1-46ee-8f7b-7df0634d763a",
   "metadata": {},
   "source": [
    "### 13. Credit utilization analysis."
   ]
  },
  {
   "cell_type": "code",
   "execution_count": 43,
   "id": "08ac89e9-1ee3-4786-94d5-0513f76d2353",
   "metadata": {},
   "outputs": [
    {
     "name": "stdout",
     "output_type": "stream",
     "text": [
      "Average credit utilization by segment:\n",
      "Customer Segment\n",
      "Corporate    1.14\n",
      "Retail       2.07\n",
      "SME          1.26\n",
      "Name: Credit Utilization Ratio, dtype: float64\n"
     ]
    }
   ],
   "source": [
    "# Cleaning the 'Credit Utilization Ratio' column by removing '%' and converting to numeric\n",
    "df['Credit Utilization Ratio'] = df['Credit Utilization Ratio'].replace('%', '', regex=True).astype(float) / 100\n",
    "\n",
    "# Now calculating the average credit utilization by customer segment\n",
    "credit_util = df.groupby('Customer Segment')['Credit Utilization Ratio'].mean().round(2)\n",
    "\n",
    "print(\"Average credit utilization by segment:\")\n",
    "print(credit_util)\n"
   ]
  },
  {
   "cell_type": "markdown",
   "id": "2f1dd224-548d-4248-96c1-f5d1d2a4080e",
   "metadata": {},
   "source": [
    "### 14. Analyze churn rate by communication preference."
   ]
  },
  {
   "cell_type": "code",
   "execution_count": 45,
   "id": "fa60ad2b-db35-427f-a6de-6b783c6ba010",
   "metadata": {},
   "outputs": [
    {
     "name": "stdout",
     "output_type": "stream",
     "text": [
      "Churn rate by communication preference (%):\n",
      "Communication  Churn Status\n",
      "Email          Active          87.8\n",
      "               Churned         12.2\n",
      "Phone          Active          87.8\n",
      "               Churned         12.2\n",
      "Name: proportion, dtype: float64\n"
     ]
    }
   ],
   "source": [
    "churn_by_comm = df.groupby('Communication')['Churn Status'].value_counts(normalize=True).round(3) * 100\n",
    "print(\"Churn rate by communication preference (%):\")\n",
    "print(churn_by_comm)"
   ]
  },
  {
   "cell_type": "markdown",
   "id": "6a55e604-8f47-4ca4-b67c-407896386913",
   "metadata": {},
   "source": [
    "### 15. Calculate customer engagement score."
   ]
  },
  {
   "cell_type": "code",
   "execution_count": 47,
   "id": "384c0295-a085-4b0a-94d7-d258308cbb4f",
   "metadata": {},
   "outputs": [
    {
     "name": "stdout",
     "output_type": "stream",
     "text": [
      "Customer engagement score summary:\n",
      "count    115640.00\n",
      "mean          5.60\n",
      "std           3.62\n",
      "min          -2.30\n",
      "25%           2.60\n",
      "50%           5.60\n",
      "75%           8.60\n",
      "max          13.50\n",
      "Name: Engagement_Score, dtype: float64\n"
     ]
    }
   ],
   "source": [
    "df['Engagement_Score'] = (df['Num of Products'] * 0.3 + \n",
    "                         df['Customer Tenure'] * 0.4 - \n",
    "                         df['Num of Complaints'] * 0.3)\n",
    "print(\"\\\n",
    "Customer engagement score summary:\")\n",
    "\n",
    "print(df['Engagement_Score'].describe().round(2))"
   ]
  },
  {
   "cell_type": "markdown",
   "id": "c02bfe3d-e8a3-46c1-8b89-7b0a8e6a6942",
   "metadata": {},
   "source": [
    "### 16. Risk-adjusted profitability."
   ]
  },
  {
   "cell_type": "code",
   "execution_count": 53,
   "id": "4d84b4cc-eff8-44bb-896e-13701289a523",
   "metadata": {},
   "outputs": [
    {
     "name": "stdout",
     "output_type": "stream",
     "text": [
      "Product penetration by segment:\n",
      "Customer Segment\n",
      "Corporate    3.00\n",
      "Retail       2.99\n",
      "SME          3.00\n",
      "Name: Num of Products, dtype: float64\n"
     ]
    }
   ],
   "source": [
    "product_penetration = df.groupby('Customer Segment')['Num of Products'].mean().round(2)\n",
    "print(\"Product penetration by segment:\")\n",
    "print(product_penetration)"
   ]
  },
  {
   "cell_type": "markdown",
   "id": "a6f4aae2-d26a-4c00-b8f7-f11fada4fdc1",
   "metadata": {},
   "source": [
    "### 17. Total active vs churned customers."
   ]
  },
  {
   "cell_type": "code",
   "execution_count": 123,
   "id": "b935c7ae-da68-4ef1-8b9a-7d8a5285ca98",
   "metadata": {},
   "outputs": [
    {
     "name": "stdout",
     "output_type": "stream",
     "text": [
      "Churn Status\n",
      "Active     101546\n",
      "Churned     14094\n",
      "Name: count, dtype: int64\n"
     ]
    }
   ],
   "source": [
    "def total_active_vs_churned(df):\n",
    "    return df['Churn Status'].value_counts()\n",
    "print(total_active_vs_churned(df))"
   ]
  },
  {
   "cell_type": "markdown",
   "id": "354f885a-6792-41d0-a938-f6d04a023bd4",
   "metadata": {},
   "source": [
    "### 18. Income group with highest churn rate."
   ]
  },
  {
   "cell_type": "code",
   "execution_count": 154,
   "id": "f7703af4-20ff-4ebe-b50f-3a8b4ef74737",
   "metadata": {},
   "outputs": [
    {
     "name": "stdout",
     "output_type": "stream",
     "text": [
      "Income Gap\n",
      "Low       0.123329\n",
      "Medium    0.121871\n",
      "High      0.121178\n",
      "Name: Churn Flag, dtype: float64\n"
     ]
    }
   ],
   "source": [
    "def churn_by_income_gap(df):\n",
    "    return df.groupby('Income Gap')['Churn Flag'].mean().sort_values(ascending=False)\n",
    "print(churn_by_income_gap(df))"
   ]
  },
  {
   "cell_type": "markdown",
   "id": "03ffa732-eadc-4116-8a6a-b78aaec16c0b",
   "metadata": {},
   "source": [
    "### 19. Average age by gender."
   ]
  },
  {
   "cell_type": "code",
   "execution_count": 139,
   "id": "17b1e769-e088-4f50-ae25-2677adc29da0",
   "metadata": {},
   "outputs": [
    {
     "name": "stdout",
     "output_type": "stream",
     "text": [
      "Gender\n",
      "Female    47.169255\n",
      "Male      47.218249\n",
      "Name: Age, dtype: float64\n"
     ]
    }
   ],
   "source": [
    "def average_age_by_gender(df):\n",
    "    return df.groupby('Gender')['Age'].mean()\n",
    "print(average_age_by_gender(df))"
   ]
  },
  {
   "cell_type": "markdown",
   "id": "c8b66d4b-c654-4e91-95a2-6e9878690f89",
   "metadata": {},
   "source": [
    "### 20. Top 5 common occupations."
   ]
  },
  {
   "cell_type": "code",
   "execution_count": 75,
   "id": "b9dbe6fe-6451-42df-b847-34dc442b0745",
   "metadata": {},
   "outputs": [
    {
     "name": "stdout",
     "output_type": "stream",
     "text": [
      "Occupation\n",
      "Engineer, materials                 222\n",
      "Biochemist, clinical                218\n",
      "Contractor                          217\n",
      "Surveyor, commercial/residential    215\n",
      "Surveyor, building                  215\n",
      "Name: count, dtype: int64\n"
     ]
    }
   ],
   "source": [
    "def top_5_occupations(df):\n",
    "    return df['Occupation'].value_counts().head(5)\n",
    "print(top_5_occupations(df))"
   ]
  },
  {
   "cell_type": "markdown",
   "id": "3d50a179-149d-4109-9112-3fe4a8c3cbd1",
   "metadata": {},
   "source": [
    "### 21. Percentage of customers by risk category."
   ]
  },
  {
   "cell_type": "code",
   "execution_count": 77,
   "id": "8de6b3be-6f7b-4b85-b2da-9da12605b023",
   "metadata": {},
   "outputs": [
    {
     "name": "stdout",
     "output_type": "stream",
     "text": [
      "Risk Indicator\n",
      "Low Risk     63.577482\n",
      "High Risk    29.066932\n",
      "Mid Risk      7.355586\n",
      "Name: proportion, dtype: float64\n"
     ]
    }
   ],
   "source": [
    "def risk_category_percentage(df):\n",
    "    return df['Risk Indicator'].value_counts(normalize=True) * 100\n",
    "print(risk_category_percentage(df))"
   ]
  },
  {
   "cell_type": "markdown",
   "id": "338e4a33-c38c-4354-813e-7120443b2e55",
   "metadata": {},
   "source": [
    "### 22. Credit score stats."
   ]
  },
  {
   "cell_type": "code",
   "execution_count": 79,
   "id": "edc8375f-041b-4c61-9384-e014161f55ca",
   "metadata": {},
   "outputs": [
    {
     "name": "stdout",
     "output_type": "stream",
     "text": [
      "{'Max': 850, 'Min': 300, 'Average': 574.299775164303}\n"
     ]
    }
   ],
   "source": [
    "def credit_score_stats(df):\n",
    "    return {\n",
    "        'Max': df['Credit Score'].max(),\n",
    "        'Min': df['Credit Score'].min(),\n",
    "        'Average': df['Credit Score'].mean()\n",
    "    }\n",
    "print(credit_score_stats(df))"
   ]
  },
  {
   "cell_type": "markdown",
   "id": "d3cf6fc5-3e9c-42ab-8fec-05f8b12b81a2",
   "metadata": {},
   "source": [
    "### 23. Top 3 churn reasons."
   ]
  },
  {
   "cell_type": "code",
   "execution_count": 81,
   "id": "d02778e7-eba4-404f-9b51-b881c0dd4420",
   "metadata": {},
   "outputs": [
    {
     "name": "stdout",
     "output_type": "stream",
     "text": [
      "Churn Reason\n",
      "Service Issues     3573\n",
      "Account Closure    3548\n",
      "Relocation         3528\n",
      "Name: count, dtype: int64\n"
     ]
    }
   ],
   "source": [
    "def top_3_churn_reasons(df):\n",
    "    churned = df[df['Churn Flag'] == 1]\n",
    "    return churned['Churn Reason'].value_counts().head(3)\n",
    "print(top_3_churn_reasons(df))"
   ]
  },
  {
   "cell_type": "markdown",
   "id": "ef4810dd-fba4-4cef-9f0b-41b597a65258",
   "metadata": {},
   "source": [
    "### 24. Churn rate based on number of products"
   ]
  },
  {
   "cell_type": "code",
   "execution_count": 87,
   "id": "d96025ff-a0b5-41e4-9779-97de702c3645",
   "metadata": {},
   "outputs": [
    {
     "name": "stdout",
     "output_type": "stream",
     "text": [
      "Num of Products\n",
      "1    0.208665\n",
      "2    0.164215\n",
      "3    0.113975\n",
      "4    0.078487\n",
      "5    0.043953\n",
      "Name: Churn Flag, dtype: float64\n"
     ]
    }
   ],
   "source": [
    "def churn_rate_by_products(df):\n",
    "    return df.groupby('Num of Products')['Churn Flag'].mean()\n",
    "print(churn_rate_by_products(df))"
   ]
  },
  {
   "cell_type": "markdown",
   "id": "55c5ab9e-3449-4b26-b918-8a4a40cb95d5",
   "metadata": {},
   "source": [
    "### 25. Correlation between complaints and churn."
   ]
  },
  {
   "cell_type": "code",
   "execution_count": 89,
   "id": "8bf5df70-8d3c-468a-8a11-018e1e91b454",
   "metadata": {},
   "outputs": [
    {
     "name": "stdout",
     "output_type": "stream",
     "text": [
      "0.20462632536812306\n"
     ]
    }
   ],
   "source": [
    "def complaints_churn_correlation(df):\n",
    "    return df['Num of Complaints'].corr(df['Churn Flag'])\n",
    "print(complaints_churn_correlation(df))"
   ]
  },
  {
   "cell_type": "markdown",
   "id": "9eeabe7c-0ca5-4252-9782-5cca24fc3376",
   "metadata": {},
   "source": [
    "### 26. Predict high-risk churn customers."
   ]
  },
  {
   "cell_type": "code",
   "execution_count": 105,
   "id": "62b3103d-f0f7-4891-97f3-96b220e470a7",
   "metadata": {},
   "outputs": [
    {
     "name": "stdout",
     "output_type": "stream",
     "text": [
      "                                  CustomerId         Full Name Risk Indicator  \\\n",
      "21      a654eb64-9cce-4cd7-835a-5c9a1d73cb33    Kevin Martinez      High Risk   \n",
      "38      a7cd265f-5016-4ec8-b37e-ab147607193a    Robert Wallace      High Risk   \n",
      "60      9ab7d8e3-791d-4628-aefb-91c26b058c7c      Ryan Sanchez      High Risk   \n",
      "71      eb211e13-c4f9-4d16-b886-946fb69f33ca     Chelsea Clark      High Risk   \n",
      "79      5659efbf-6edb-4000-a168-14e0f3b87848  Timothy Friedman      High Risk   \n",
      "...                                      ...               ...            ...   \n",
      "115604  d9b596e9-d3a8-4116-99bf-ba26edbdc219    Daniel Rollins      High Risk   \n",
      "115607  47123a80-a452-41f1-93b5-f08b9f11f4f2      Adam Kennedy      High Risk   \n",
      "115611  7540e330-bdb7-45c1-88bc-f6e57b2e855f       Ryan Martin      High Risk   \n",
      "115613  7a7d7ef6-94b1-46ae-b26d-9291e2de3c26      Debra Hudson      High Risk   \n",
      "115626  ef61dabe-e92f-4e9f-a343-74beb7cdc4b0        Larry Wood      High Risk   \n",
      "\n",
      "        Credit Score  Complaint Rate  \n",
      "21               437             4.5  \n",
      "38               364             4.0  \n",
      "60               415             3.5  \n",
      "71               487             5.0  \n",
      "79               413             2.5  \n",
      "...              ...             ...  \n",
      "115604           480             5.0  \n",
      "115607           451             5.0  \n",
      "115611           369             3.0  \n",
      "115613           312             8.0  \n",
      "115626           325             8.0  \n",
      "\n",
      "[12247 rows x 5 columns]\n"
     ]
    }
   ],
   "source": [
    "def high_risk_churn_customers(df):\n",
    "    high_risk_customers = df[\n",
    "        (df['Risk Indicator'] == 'High Risk') &\n",
    "        (df['Credit Score'] < 500) &\n",
    "        (df['Complaint Rate'] > 2.0)\n",
    "    ]\n",
    "    return high_risk_customers[['CustomerId', 'Full Name', 'Risk Indicator', 'Credit Score', 'Complaint Rate']]\n",
    "print(high_risk_churn_customers(df))"
   ]
  }
 ],
 "metadata": {
  "kernelspec": {
   "display_name": "Python 3 (ipykernel)",
   "language": "python",
   "name": "python3"
  },
  "language_info": {
   "codemirror_mode": {
    "name": "ipython",
    "version": 3
   },
   "file_extension": ".py",
   "mimetype": "text/x-python",
   "name": "python",
   "nbconvert_exporter": "python",
   "pygments_lexer": "ipython3",
   "version": "3.12.7"
  }
 },
 "nbformat": 4,
 "nbformat_minor": 5
}
